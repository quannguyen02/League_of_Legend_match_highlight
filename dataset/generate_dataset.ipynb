{
 "cells": [
  {
   "cell_type": "code",
   "execution_count": null,
   "id": "df5aa507-e9bf-4f58-a225-e8bce501282d",
   "metadata": {},
   "outputs": [],
   "source": [
    "\"\"\"\n",
    "Generate CSV file based on matches and timelines dataset\n",
    "\n",
    "For now, the attributes are ['totalGold', 'totalMinionsKilled', 'totalDamageDoneToChampions', 'xp', 'level']\n",
    "Feel free to add more. Make sure to check the schema carefully.\n",
    "\n",
    "\n",
    "To get the first 1000 lines, run: cat timelines.csv | head -n 1001 > mock_timelines.csv\n",
    "\"\"\""
   ]
  },
  {
   "cell_type": "code",
   "execution_count": 1,
   "id": "8f75aedf-25f4-4134-9b28-114bbc4a300b",
   "metadata": {},
   "outputs": [],
   "source": [
    "import json\n",
    "import csv\n",
    "import requests\n",
    "import timeit\n",
    "import re"
   ]
  },
  {
   "cell_type": "code",
   "execution_count": 2,
   "id": "a50b31f3-94af-4e4c-954e-927e0543091f",
   "metadata": {},
   "outputs": [
    {
     "data": {
      "text/plain": [
       "'\\nFORMAT OF CSV FILE:\\nlabel: 0 if team_zero wins, 1 if team_zero loses\\nratio_<stat>: ratio of <stats> team_one/team_zero\\n\\nNOTES:\\n- The dataset reaches the next match whenever we meet a row full of 1.0 (Both teams have the same starting stats)\\n'"
      ]
     },
     "execution_count": 2,
     "metadata": {},
     "output_type": "execute_result"
    }
   ],
   "source": [
    "\"\"\"\n",
    "FORMAT OF CSV FILE:\n",
    "label: 0 if team_zero wins, 1 if team_zero loses\n",
    "ratio_<stat>: ratio of <stats> team_one/team_zero\n",
    "\n",
    "NOTES:\n",
    "- The dataset reaches the next match whenever we meet a row full of 1.0 (Both teams have the same starting stats)\n",
    "\"\"\""
   ]
  },
  {
   "cell_type": "code",
   "execution_count": 3,
   "id": "186f5c41-7f66-4516-b6dd-1a8bc6a93de0",
   "metadata": {},
   "outputs": [],
   "source": [
    "# Accumulate team's data in one frame\n",
    "def accumulate_team_data_in_frame(team, participantFrame):\n",
    "    team['totalGold'] += participantFrame['totalGold']\n",
    "    team['totalMinionsKilled'] += participantFrame['minionsKilled'] + participantFrame['jungleMinionsKilled']\n",
    "    team['totalDamageDoneToChampions'] += participantFrame['damageStats']['totalDamageDoneToChampions']\n",
    "    team['xp'] += participantFrame['xp']\n",
    "    team['level'] += participantFrame['level']"
   ]
  },
  {
   "cell_type": "code",
   "execution_count": 12,
   "id": "297af8b1-d522-4d6d-8c26-2a1360362efa",
   "metadata": {},
   "outputs": [],
   "source": [
    "# Convert data to table\n",
    "def convert_to_table(match_ids, region):\n",
    "    csv_file = open('timelines.csv', 'w')\n",
    "    writer = csv.writer(csv_file)\n",
    "    writer.writerow(['label', 'ratio_totalGold',\n",
    "                    'ratio_totalMinionsKilled',\n",
    "                    'ratio_totalDamageDoneToChampions',\n",
    "                    'ratio_xp',\n",
    "                    'ratio_level'])\n",
    "    \n",
    "    failed_data = 0\n",
    "    for i in range(len(match_ids)):   \n",
    "        match_id = match_ids[i]\n",
    "        \n",
    "        match_file = open(f'./matches/{region}_{match_id}.json')\n",
    "        timeline_file = open(f'./timelines/{region}_{match_id}.json')        \n",
    "        \n",
    "        data = json.load(timeline_file)\n",
    "        team_zero_win = json.load(match_file)['info']['teams'][0]['win']\n",
    "        \n",
    "        # label\n",
    "        label = '0' if team_zero_win else 1\n",
    "        \n",
    "        # Attributes of the table\n",
    "        attributes = ['totalGold', 'totalMinionsKilled', 'totalDamageDoneToChampions', 'xp', 'level']\n",
    "        try:\n",
    "            frames = data['info']['frames']\n",
    "            for frame in frames:\n",
    "                row_data = [label]\n",
    "                team_zero = {key: 0 for key in attributes}\n",
    "                team_one = {key: 0 for key in attributes}\n",
    "\n",
    "                participantFrames = frame['participantFrames']\n",
    "                for i in range(1, 11):\n",
    "                    participantFrame = participantFrames[str(i)]\n",
    "                    # team_zero\n",
    "                    if int(i) <= 5:\n",
    "                        accumulate_team_data_in_frame(team_zero, participantFrame)\n",
    "                    # team_one\n",
    "                    else:\n",
    "                        accumulate_team_data_in_frame(team_one, participantFrame)\n",
    "\n",
    "                # Get the ratio of the stats\n",
    "                for attr in attributes:\n",
    "                    if team_zero[attr] == 0:\n",
    "                        row_data.append(1.0)\n",
    "                    else:\n",
    "                        row_data.append(team_one[attr] / team_zero[attr])\n",
    "\n",
    "                # Write csv\n",
    "                writer.writerow(row_data)\n",
    "        \n",
    "        except:\n",
    "            failed_data += 1\n",
    "            print(match_id)\n",
    "            continue\n",
    "            \n",
    "    csv_file.close()"
   ]
  },
  {
   "cell_type": "code",
   "execution_count": 13,
   "id": "51714347-5902-4045-9eed-8468ecbf602e",
   "metadata": {},
   "outputs": [
    {
     "name": "stdout",
     "output_type": "stream",
     "text": [
      "4035112136\n",
      "4035116571\n",
      "4035152728\n",
      "4035157361\n",
      "4035168348\n",
      "4035176114\n",
      "4035185272\n",
      "Time:  84.24330387500049\n"
     ]
    }
   ],
   "source": [
    "start = timeit.default_timer()\n",
    "url = \"https://canisback.com/matchId/matchlist_na1.json\"\n",
    "res = requests.get(url)\n",
    "match_ids = json.loads(res.text)\n",
    "region = re.split(r'[_, .]', url)[-2].upper()\n",
    "\n",
    "convert_to_table(match_ids, region)\n",
    "\n",
    "stop = timeit.default_timer()\n",
    "print('Time: ', stop - start)"
   ]
  },
  {
   "cell_type": "code",
   "execution_count": null,
   "id": "5e5da5aa-b79d-43e8-a090-6df8b76257ef",
   "metadata": {},
   "outputs": [],
   "source": []
  }
 ],
 "metadata": {
  "kernelspec": {
   "display_name": "Python 3 (ipykernel)",
   "language": "python",
   "name": "python3"
  },
  "language_info": {
   "codemirror_mode": {
    "name": "ipython",
    "version": 3
   },
   "file_extension": ".py",
   "mimetype": "text/x-python",
   "name": "python",
   "nbconvert_exporter": "python",
   "pygments_lexer": "ipython3",
   "version": "3.9.2"
  },
  "vscode": {
   "interpreter": {
    "hash": "4506b46b87f4349cc247c73ed68d229a78bdf7e2544e4ec8c90e5dfc7329ee11"
   }
  }
 },
 "nbformat": 4,
 "nbformat_minor": 5
}
