{
 "cells": [
  {
   "cell_type": "code",
   "execution_count": 10,
   "id": "c77d4827-62a4-4b0b-8ba7-c2bc44c6f07c",
   "metadata": {},
   "outputs": [],
   "source": [
    "import json\n",
    "import requests\n",
    "import re\n",
    "import timeit\n",
    "import time\n",
    "import pandas as pd\n",
    "import csv"
   ]
  },
  {
   "cell_type": "code",
   "execution_count": 11,
   "id": "19f5e809-e516-40fb-8a64-d1e871dcafd5",
   "metadata": {},
   "outputs": [],
   "source": [
    "api_key = 'RGAPI-a6bfb009-0c5f-4e62-8f07-eedaab82de4b'\n",
    "csv_file = open('matches.csv', 'w')\n",
    "writer = csv.writer(csv_file)"
   ]
  },
  {
   "cell_type": "code",
   "execution_count": 12,
   "id": "884cb5a8-de00-409c-b6e9-635cf620d6ed",
   "metadata": {},
   "outputs": [],
   "source": [
    "# Save fetch data to JSON files\n",
    "def save_json(match_ids, region):\n",
    "    for i in range(len(match_ids)):\n",
    "        if i < 2700:\n",
    "            continue\n",
    "        # 5000 here\n",
    "        if i > 5000:\n",
    "            break\n",
    "        \n",
    "        if i != 0 and i % 100 == 0:\n",
    "            print('Reaching index: ', end='')\n",
    "            print(i)\n",
    "            time.sleep(120)\n",
    "            \n",
    "        match_id = match_ids[i]\n",
    "        match_v5_url = f'https://americas.api.riotgames.com/lol/match/v5/matches/{region}_{match_id}/timeline?api_key={api_key}'\n",
    "        match_response = requests.get(match_v5_url)\n",
    "        match_info = json.loads(match_response.text)\n",
    "        \n",
    "        # Save data into json file\n",
    "        # Minh: ../timelines\n",
    "        # Quan: ../timelines2\n",
    "        file = open(f'./timelines/{region}_{match_id}.json', \"w\")\n",
    "        file.write(json.dumps(match_info, indent=4))\n",
    "        file.close()"
   ]
  },
  {
   "cell_type": "code",
   "execution_count": 13,
   "id": "cfc4e817-bd33-4609-a412-4816475398a5",
   "metadata": {},
   "outputs": [],
   "source": [
    "# Fetch match data from RIOT\n",
    "def fetch_match_ids(url):\n",
    "    res = requests.get(url)\n",
    "    match_ids = json.loads(res.text)\n",
    "    region = re.split(r'[_, .]', url)[-2].upper()\n",
    "    \n",
    "    save_json(match_ids, region)"
   ]
  },
  {
   "cell_type": "code",
   "execution_count": null,
   "id": "fb4d89bf-231d-4e6d-9676-4640b5e5a11b",
   "metadata": {},
   "outputs": [
    {
     "name": "stdout",
     "output_type": "stream",
     "text": [
      "Reaching index: 2700\n",
      "Reaching index: 2800\n",
      "Reaching index: 2900\n",
      "Reaching index: 3000\n",
      "Reaching index: 3100\n",
      "Reaching index: 3200\n",
      "Reaching index: 3300\n",
      "Reaching index: 3400\n",
      "Reaching index: 3500\n",
      "Reaching index: 3600\n",
      "Reaching index: 3700\n",
      "Reaching index: 3800\n",
      "Reaching index: 3900\n",
      "Reaching index: 4000\n",
      "Reaching index: 4100\n",
      "Reaching index: 4200\n",
      "Reaching index: 4300\n",
      "Reaching index: 4400\n",
      "Reaching index: 4500\n",
      "Reaching index: 4600\n",
      "Reaching index: 4700\n",
      "Reaching index: 4800\n",
      "Reaching index: 4900\n",
      "Reaching index: 5000\n",
      "Time:  5426.478274791999\n"
     ]
    }
   ],
   "source": [
    "start = timeit.default_timer()\n",
    "### Fetch RIOT api and save to json file\n",
    "fetch_match_ids(\"https://canisback.com/matchId/matchlist_na1.json\")\n",
    "stop = timeit.default_timer()\n",
    "print('Time: ', stop - start)\n",
    "csv_file.close()"
   ]
  },
  {
   "cell_type": "code",
   "execution_count": null,
   "id": "dd619ceb-a89e-45c9-a50d-894b0bddfb4e",
   "metadata": {},
   "outputs": [],
   "source": []
  }
 ],
 "metadata": {
  "kernelspec": {
   "display_name": "Python 3 (ipykernel)",
   "language": "python",
   "name": "python3"
  },
  "language_info": {
   "codemirror_mode": {
    "name": "ipython",
    "version": 3
   },
   "file_extension": ".py",
   "mimetype": "text/x-python",
   "name": "python",
   "nbconvert_exporter": "python",
   "pygments_lexer": "ipython3",
   "version": "3.9.13"
  }
 },
 "nbformat": 4,
 "nbformat_minor": 5
}
