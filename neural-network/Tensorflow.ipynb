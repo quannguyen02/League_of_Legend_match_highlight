{
 "cells": [
  {
   "cell_type": "code",
   "execution_count": 1,
   "id": "f6595637-7885-4f89-987c-9fcd315fa5f1",
   "metadata": {},
   "outputs": [],
   "source": [
    "import pandas as pd\n",
    "import tensorflow as tf\n",
    "import math, os, time\n",
    "from sklearn.metrics import classification_report\n",
    "from sklearn.preprocessing import MinMaxScaler, StandardScaler \n",
    "from sklearn.model_selection import train_test_split\n",
    "from tensorflow.keras.layers import Dense, BatchNormalization"
   ]
  },
  {
   "cell_type": "code",
   "execution_count": 14,
   "id": "fd394219-4112-446f-9485-68e53964652d",
   "metadata": {},
   "outputs": [
    {
     "name": "stdout",
     "output_type": "stream",
     "text": [
      "Epoch 1/2\n",
      "3580/3580 [==============================] - 6s 1ms/step - loss: 0.5192 - accuracy: 0.7216 - val_loss: 0.5424 - val_accuracy: 0.7058\n",
      "Epoch 2/2\n",
      "3580/3580 [==============================] - 5s 1ms/step - loss: 0.5120 - accuracy: 0.7260 - val_loss: 0.5332 - val_accuracy: 0.7076\n"
     ]
    }
   ],
   "source": [
    "def read_process_data(file):\n",
    "    data_frame = pd.read_csv(file)\n",
    "    scaler = MinMaxScaler()\n",
    "    data_scaled = scaler.fit_transform(data_frame)\n",
    "    return pd.DataFrame(data_scaled, columns = data_frame.columns), scaler\n",
    "\n",
    "def train(X, y, weight_path):\n",
    "    model = tf.keras.Sequential([\n",
    "        Dense(128, activation='relu'),\n",
    "        BatchNormalization(),\n",
    "        Dense(64, activation='relu'),\n",
    "        BatchNormalization(),\n",
    "        Dense(32, activation='relu'),\n",
    "        BatchNormalization(),\n",
    "        Dense(1, activation='sigmoid')\n",
    "    ])\n",
    "    \n",
    "    \n",
    "    model.compile(optimizer = tf.keras.optimizers.Adam(learning_rate=0.001),\n",
    "                  loss = tf.keras.losses.BinaryCrossentropy(),\n",
    "                  metrics = tf.keras.metrics.BinaryAccuracy(name='accuracy'))\n",
    "\n",
    "    model.fit(X, y, epochs=2, validation_split=0.25)\n",
    "    model.save_weight(weight_path)\n",
    "#     model = tf.keras.models.load_model(weight_path)\n",
    "\n",
    "if __name__ == \"__main__\":\n",
    "    file = f'./timelines.csv'\n",
    "    weight_path=f'weights/league_timeline.h5'\n",
    "    random_seed = 12345\n",
    "    df, scaler = read_process_data(file)\n",
    "    X = df[df.columns[1:]]\n",
    "    y = df[df.columns[0]]\n",
    "    model = train(X, y, weight_path)"
   ]
  },
  {
   "cell_type": "code",
   "execution_count": 48,
   "id": "20b52e74-6efb-45cd-ae2d-446e8585ce45",
   "metadata": {},
   "outputs": [
    {
     "name": "stdout",
     "output_type": "stream",
     "text": [
      "Accuracy: 0.7358248435167483\n",
      "              precision    recall  f1-score   support\n",
      "\n",
      "         0.0       0.71      0.81      0.75     19145\n",
      "         1.0       0.78      0.66      0.71     19038\n",
      "\n",
      "    accuracy                           0.74     38183\n",
      "   macro avg       0.74      0.74      0.73     38183\n",
      "weighted avg       0.74      0.74      0.73     38183\n",
      "\n"
     ]
    }
   ],
   "source": [
    "from sklearn.ensemble import RandomForestClassifier\n",
    "from sklearn.neural_network import MLPClassifier    \n",
    "from sklearn.metrics import accuracy_score, classification_report\n",
    "\n",
    "\n",
    "clf =  MLPClassifier((100, 50, 30), max_iter=500, learning_rate_init=0.01, random_state=12345)\n",
    "clf.fit(X_train, y_train)\n",
    "\n",
    "pred = clf.predict(X_test)\n",
    "\n",
    "print(\"Accuracy:\", accuracy_score(y_test, pred))\n",
    "print(classification_report(y_test, pred))"
   ]
  },
  {
   "cell_type": "code",
   "execution_count": null,
   "id": "14f03d59-397e-45fc-811a-84a30f520f90",
   "metadata": {},
   "outputs": [],
   "source": []
  }
 ],
 "metadata": {
  "kernelspec": {
   "display_name": "Python 3",
   "language": "python",
   "name": "python3"
  },
  "language_info": {
   "codemirror_mode": {
    "name": "ipython",
    "version": 3
   },
   "file_extension": ".py",
   "mimetype": "text/x-python",
   "name": "python",
   "nbconvert_exporter": "python",
   "pygments_lexer": "ipython3",
   "version": "3.8.8"
  }
 },
 "nbformat": 4,
 "nbformat_minor": 5
}
