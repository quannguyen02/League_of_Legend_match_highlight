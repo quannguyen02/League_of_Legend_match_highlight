{
 "cells": [
  {
   "cell_type": "code",
   "execution_count": 1,
   "id": "8f75aedf-25f4-4134-9b28-114bbc4a300b",
   "metadata": {},
   "outputs": [],
   "source": [
    "import json, csv, os, time"
   ]
  },
  {
   "cell_type": "code",
   "execution_count": 150,
   "id": "186f5c41-7f66-4516-b6dd-1a8bc6a93de0",
   "metadata": {},
   "outputs": [],
   "source": [
    "# Accumulate team's data in one frame\n",
    "def accumulate_team_data_in_frame(team, participantFrame, attributes):\n",
    "    for i, attr in enumerate(attributes):\n",
    "        if i < 3:\n",
    "            team[i] += participantFrame['damageStats'][attr]\n",
    "        else:\n",
    "            team[i] += participantFrame[attr]"
   ]
  },
  {
   "cell_type": "code",
   "execution_count": 157,
   "id": "514eb09e-0749-4168-9a61-ebd9bc33c287",
   "metadata": {},
   "outputs": [],
   "source": [
    "# Convert data to table\n",
    "def convert_to_table(timelines_folder, result_file):\n",
    "    # Attributes of the table\n",
    "    attributes = [\"totalDamageDone\", \"totalDamageDoneToChampions\", \"totalDamageTaken\",\n",
    "                  \"jungleMinionsKilled\", \"level\", \"minionsKilled\", \"timeEnemySpentControlled\", \"totalGold\", \"xp\"]\n",
    "    \n",
    "    csv_file = open(result_file, 'w')\n",
    "    writer = csv.writer(csv_file)\n",
    "    writer.writerow([\"label\", \"time_frame\"] + [\"red_\" + i for i in attributes] + [\"blue_\" + i for i in attributes])\n",
    "    \n",
    "    failed_data = 0\n",
    "    \n",
    "    for match in os.listdir(timelines_folder):\n",
    "        try:\n",
    "            with open(f'{timelines_folder}/{match}') as file:\n",
    "                data = json.load(file)\n",
    "                \n",
    "            frames = data['info']['frames']\n",
    "            # check win result\n",
    "            label = 0 if int(frames[-1][\"events\"][-1][\"winningTeam\"]) == 100 else 1\n",
    "            \n",
    "            for count, frame in enumerate(frames):\n",
    "                # row data to add to timeline.csv\n",
    "                row_data = [label, count]\n",
    "                red_team = [0 for _ in attributes]\n",
    "                blue_team = [0 for _ in attributes]\n",
    "                participantFrames = frame['participantFrames']\n",
    "                \n",
    "                for i in range(1,11):\n",
    "                    participantFrame = participantFrames[str(i)]\n",
    "                    # red_team\n",
    "                    if i <= 5:\n",
    "                        accumulate_team_data_in_frame(red_team, participantFrame, attributes)\n",
    "                    # blue_team\n",
    "                    else:\n",
    "                        accumulate_team_data_in_frame(blue_team, participantFrame, attributes)\n",
    "                \n",
    "                # Write csv\n",
    "                writer.writerow([label, count] + red_team + blue_team)\n",
    "        \n",
    "        except:\n",
    "            failed_data += 1\n",
    "            print(match)\n",
    "            continue\n",
    "            \n",
    "    csv_file.close()"
   ]
  },
  {
   "cell_type": "code",
   "execution_count": 158,
   "id": "51714347-5902-4045-9eed-8468ecbf602e",
   "metadata": {},
   "outputs": [
    {
     "name": "stdout",
     "output_type": "stream",
     "text": [
      "NA1_4035168348.json\n",
      ".DS_Store\n",
      "NA1_4035185272.json\n",
      "NA1_4035157361.json\n",
      "NA1_4035176114.json\n",
      "Time:  53.723020792007446\n"
     ]
    }
   ],
   "source": [
    "start = time.time()\n",
    "\n",
    "# NEED folder of all timelines files\n",
    "timelines_folder = \"./timelines\"\n",
    "result_file = \"./timelines.csv\"\n",
    "convert_to_table(timelines_folder, result_file)\n",
    "\n",
    "stop = time.time()\n",
    "print('Time: ', stop - start)"
   ]
  },
  {
   "cell_type": "code",
   "execution_count": null,
   "id": "46c09227-dcc5-4244-8869-421ffafabfdd",
   "metadata": {},
   "outputs": [],
   "source": []
  },
  {
   "cell_type": "code",
   "execution_count": null,
   "id": "ed16f62e-c4d7-40a1-b751-1c30c268e48e",
   "metadata": {},
   "outputs": [],
   "source": []
  }
 ],
 "metadata": {
  "kernelspec": {
   "display_name": "Python 3",
   "language": "python",
   "name": "python3"
  },
  "language_info": {
   "codemirror_mode": {
    "name": "ipython",
    "version": 3
   },
   "file_extension": ".py",
   "mimetype": "text/x-python",
   "name": "python",
   "nbconvert_exporter": "python",
   "pygments_lexer": "ipython3",
   "version": "3.8.8"
  },
  "vscode": {
   "interpreter": {
    "hash": "4506b46b87f4349cc247c73ed68d229a78bdf7e2544e4ec8c90e5dfc7329ee11"
   }
  }
 },
 "nbformat": 4,
 "nbformat_minor": 5
}
